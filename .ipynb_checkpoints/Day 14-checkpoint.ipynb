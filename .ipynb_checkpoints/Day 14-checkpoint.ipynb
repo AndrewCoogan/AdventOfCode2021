{
 "cells": [
  {
   "cell_type": "code",
   "execution_count": 2,
   "metadata": {},
   "outputs": [],
   "source": [
    "import pandas as pd\n",
    "import numpy as np # Used for np.inf\n",
    "import collections # Used to make a dictionary of frequencies"
   ]
  },
  {
   "cell_type": "code",
   "execution_count": 5,
   "metadata": {},
   "outputs": [],
   "source": [
    "def load_data(validation = False):\n",
    "    file_to_load = 'Day14Validation' if validation else 'Day14'\n",
    "    poly_map = pd.read_csv('Files/'+file_to_load+'.txt', header=None, delimiter='->')\n",
    "    poly_template = 'NNCB' if validation else 'VCOPVNKPFOOVPVSBKCOF'\n",
    "    \n",
    "    poly_dict = {}\n",
    "    for _, row in poly_map.iterrows():\n",
    "        poly_dict[row[0].strip()] = row[1].strip()\n",
    "    \n",
    "    return {\n",
    "        'poly_template' : poly_template,\n",
    "        'poly_map' : poly_map,\n",
    "        'poly_dict' : poly_dict\n",
    "    }\n",
    "\n",
    "def populate_poly(pt_t, poly_dict, next_letter = None):\n",
    "    if pt_t in poly_dict.keys():\n",
    "        if not next_letter:\n",
    "            # This means there is no next letter to check\n",
    "            return pt_t[0] + poly_dict[pt_t] + pt_t[1]\n",
    "        else:\n",
    "            if pt_t[1] == next_letter:\n",
    "                return pt_t[0] + poly_dict[pt_t]\n",
    "            else:\n",
    "                return pt_t[0] + poly_dict[pt_t] + pt_t[1]\n",
    "    raise ValueError(f'Compound {pt_t} not found in poly_dict.')\n",
    "    \n",
    "def day_14_solution_calculator(poly):\n",
    "    poly_frequency = collections.Counter(poly)\n",
    "    maximum = 0\n",
    "    minimum = np.inf\n",
    "    for key in poly_frequency.keys():\n",
    "        if poly_frequency[key] > maximum:\n",
    "            maximum = poly_frequency[key]\n",
    "        if poly_frequency[key] < minimum:\n",
    "            minimum = poly_frequency[key]\n",
    "    return maximum - minimum"
   ]
  },
  {
   "cell_type": "code",
   "execution_count": 17,
   "metadata": {},
   "outputs": [
    {
     "name": "stderr",
     "output_type": "stream",
     "text": [
      "/Users/andrewcoogan/opt/anaconda3/lib/python3.7/site-packages/ipykernel_launcher.py:3: ParserWarning: Falling back to the 'python' engine because the 'c' engine does not support regex separators (separators > 1 char and different from '\\s+' are interpreted as regex); you can avoid this warning by specifying engine='python'.\n",
      "  This is separate from the ipykernel package so we can avoid doing imports until\n"
     ]
    }
   ],
   "source": [
    "data = load_data(validation=True)\n",
    "poly_template = data['poly_template']\n",
    "poly_dict = data['poly_dict']"
   ]
  },
  {
   "cell_type": "code",
   "execution_count": 117,
   "metadata": {},
   "outputs": [
    {
     "name": "stdout",
     "output_type": "stream",
     "text": [
      "Poly String to Expand: VCOPVNKPFOOVPVSBKCOF\n"
     ]
    },
    {
     "data": {
      "text/plain": [
       "2851"
      ]
     },
     "execution_count": 117,
     "metadata": {},
     "output_type": "execute_result"
    }
   ],
   "source": [
    "print(f'Poly String to Expand: {poly_template}')\n",
    "\n",
    "for run in range(10):\n",
    "    new_poly = '' # This is copying by value\n",
    "    for i in range(0, len(poly_template)-1):\n",
    "        if i+2 < len(poly_template):\n",
    "            new_poly += populate_poly(poly_template[i:i+2], poly_dict, poly_template[i+1])\n",
    "        else:\n",
    "            new_poly += populate_poly(poly_template[i:i+2], poly_dict)\n",
    "    poly_template = new_poly\n",
    "\n",
    "day_14_solution_calculator(poly_template)"
   ]
  },
  {
   "cell_type": "code",
   "execution_count": 21,
   "metadata": {},
   "outputs": [
    {
     "name": "stdout",
     "output_type": "stream",
     "text": [
      "['NN', 'NC', 'CB']\n"
     ]
    }
   ],
   "source": [
    "# For part 2, we have to keep track of the NUMBER of paris that occur.\n",
    "# We luckily already have a list of this: poly_dict\n",
    "class polymer:\n",
    "    def __init__(self, pair, result):\n",
    "        self.pair=pair\n",
    "        self.result=result\n",
    "        self.resulting_polymer = [pair[0]+result, result+pair[1]]\n",
    "        self.count=0\n",
    "        self.total_count=0\n",
    "        \n",
    "    def __repr__(self):\n",
    "        print(f'{self.pair} -> {self.result}, ')\n",
    "        \n",
    "    def add_to_count(self, value):\n",
    "        self.count += value\n",
    "        \n",
    "    def end_phase(self):\n",
    "        self.total_count += self.count\n",
    "        self.count = 0\n",
    "        \n",
    "\n",
    "# Define the initial set\n",
    "initial_set = []\n",
    "for i in range(len(poly_template)-1):\n",
    "    initial_set.append(poly_template[i:i+2])\n",
    "        \n",
    "print(initial_set)\n",
    "\n",
    "poly_dict_v2 = {}\n",
    "\n",
    "for key in poly_dict.keys():\n",
    "    poly_dict_v2[key] = polymer(poly_dict[key])\n",
    "    if key in initial_set:\n",
    "        poly_dict_v2[key].add_to_count(1)"
   ]
  },
  {
   "cell_type": "code",
   "execution_count": 26,
   "metadata": {},
   "outputs": [
    {
     "data": {
      "text/plain": [
       "0"
      ]
     },
     "execution_count": 26,
     "metadata": {},
     "output_type": "execute_result"
    }
   ],
   "source": [
    "poly_dict_v2['HN'].count"
   ]
  },
  {
   "cell_type": "code",
   "execution_count": 25,
   "metadata": {},
   "outputs": [
    {
     "data": {
      "text/plain": [
       "{'CH': <__main__.polymer at 0x7f912c855750>,\n",
       " 'HH': <__main__.polymer at 0x7f912c855090>,\n",
       " 'CB': <__main__.polymer at 0x7f912c855350>,\n",
       " 'NH': <__main__.polymer at 0x7f912c855fd0>,\n",
       " 'HB': <__main__.polymer at 0x7f912c855e90>,\n",
       " 'HC': <__main__.polymer at 0x7f912c855390>,\n",
       " 'HN': <__main__.polymer at 0x7f912c855150>,\n",
       " 'NN': <__main__.polymer at 0x7f912c855250>,\n",
       " 'BH': <__main__.polymer at 0x7f912c855810>,\n",
       " 'NC': <__main__.polymer at 0x7f912c8553d0>,\n",
       " 'NB': <__main__.polymer at 0x7f912c855850>,\n",
       " 'BN': <__main__.polymer at 0x7f912c855450>,\n",
       " 'BB': <__main__.polymer at 0x7f912c855650>,\n",
       " 'BC': <__main__.polymer at 0x7f912c8551d0>,\n",
       " 'CC': <__main__.polymer at 0x7f912c8552d0>,\n",
       " 'CN': <__main__.polymer at 0x7f912c855bd0>}"
      ]
     },
     "execution_count": 25,
     "metadata": {},
     "output_type": "execute_result"
    }
   ],
   "source": [
    "poly_dict_v2"
   ]
  },
  {
   "cell_type": "code",
   "execution_count": null,
   "metadata": {},
   "outputs": [],
   "source": []
  }
 ],
 "metadata": {
  "kernelspec": {
   "display_name": "Python 3",
   "language": "python",
   "name": "python3"
  },
  "language_info": {
   "codemirror_mode": {
    "name": "ipython",
    "version": 3
   },
   "file_extension": ".py",
   "mimetype": "text/x-python",
   "name": "python",
   "nbconvert_exporter": "python",
   "pygments_lexer": "ipython3",
   "version": "3.7.4"
  }
 },
 "nbformat": 4,
 "nbformat_minor": 2
}
