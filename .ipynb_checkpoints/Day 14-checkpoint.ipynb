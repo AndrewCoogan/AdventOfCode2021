{
 "cells": [
  {
   "cell_type": "code",
   "execution_count": 112,
   "metadata": {},
   "outputs": [],
   "source": [
    "import pandas as pd\n",
    "import numpy as np # Used for np.inf\n",
    "import collections # Used to make a dictionary of frequencies"
   ]
  },
  {
   "cell_type": "code",
   "execution_count": 114,
   "metadata": {},
   "outputs": [],
   "source": [
    "def load_data(validation = False):\n",
    "    file_to_load = 'Day14Validation' if validation else 'Day14'\n",
    "    poly_map = pd.read_csv('Files/'+file_to_load+'.txt', header=None, delimiter='->')\n",
    "    poly_template = 'NNCB' if validation else 'VCOPVNKPFOOVPVSBKCOF'\n",
    "    \n",
    "    for _, row in poly_map.iterrows():\n",
    "        poly_dict[row[0].strip()] = row[1].strip()\n",
    "    \n",
    "    return {\n",
    "        'poly_template' : poly_template,\n",
    "        'poly_map' : poly_map,\n",
    "        'poly_dict' : poly_dict\n",
    "    }\n",
    "\n",
    "def populate_poly(pt_t, poly_dict, next_letter = None):\n",
    "    if pt_t in poly_dict.keys():\n",
    "        if not next_letter:\n",
    "            # This means there is no next letter to check\n",
    "            return pt_t[0] + poly_dict[pt_t] + pt_t[1]\n",
    "        else:\n",
    "            if pt_t[1] == next_letter:\n",
    "                return pt_t[0] + poly_dict[pt_t]\n",
    "            else:\n",
    "                return pt_t[0] + poly_dict[pt_t] + pt_t[1]\n",
    "    raise ValueError(f'Compound {pt_t} not found in poly_dict.')\n",
    "    \n",
    "def day_14_solution_calculator(poly):\n",
    "    poly_frequency = collections.Counter(poly)\n",
    "    maximum = 0\n",
    "    minimum = np.inf\n",
    "    for key in poly_frequency.keys():\n",
    "        if poly_frequency[key] > maximum:\n",
    "            maximum = poly_frequency[key]\n",
    "        if poly_frequency[key] < minimum:\n",
    "            minimum = poly_frequency[key]\n",
    "    return maximum - minimum"
   ]
  },
  {
   "cell_type": "code",
   "execution_count": 116,
   "metadata": {},
   "outputs": [
    {
     "name": "stderr",
     "output_type": "stream",
     "text": [
      "/Users/andrewcoogan/opt/anaconda3/lib/python3.7/site-packages/ipykernel_launcher.py:3: ParserWarning: Falling back to the 'python' engine because the 'c' engine does not support regex separators (separators > 1 char and different from '\\s+' are interpreted as regex); you can avoid this warning by specifying engine='python'.\n",
      "  This is separate from the ipykernel package so we can avoid doing imports until\n"
     ]
    }
   ],
   "source": [
    "data = load_data(validation=False)\n",
    "poly_template = data['poly_template']\n",
    "poly_dict = data['poly_dict']"
   ]
  },
  {
   "cell_type": "code",
   "execution_count": 117,
   "metadata": {},
   "outputs": [
    {
     "name": "stdout",
     "output_type": "stream",
     "text": [
      "Poly String to Expand: VCOPVNKPFOOVPVSBKCOF\n"
     ]
    },
    {
     "data": {
      "text/plain": [
       "2851"
      ]
     },
     "execution_count": 117,
     "metadata": {},
     "output_type": "execute_result"
    }
   ],
   "source": [
    "print(f'Poly String to Expand: {poly_template}')\n",
    "\n",
    "for run in range(10):\n",
    "    new_poly = '' # This is copying by value\n",
    "    for i in range(0, len(poly_template)-1):\n",
    "        if i+2 < len(poly_template):\n",
    "            new_poly += populate_poly(poly_template[i:i+2], poly_dict, poly_template[i+1])\n",
    "        else:\n",
    "            new_poly += populate_poly(poly_template[i:i+2], poly_dict)\n",
    "    poly_template = new_poly\n",
    "\n",
    "day_14_solution_calculator(poly_template)"
   ]
  },
  {
   "cell_type": "code",
   "execution_count": 118,
   "metadata": {},
   "outputs": [
    {
     "data": {
      "text/plain": [
       "{'NO': 'K',\n",
       " 'PO': 'B',\n",
       " 'HS': 'B',\n",
       " 'FP': 'V',\n",
       " 'KN': 'S',\n",
       " 'HV': 'S',\n",
       " 'KC': 'S',\n",
       " 'CS': 'B',\n",
       " 'KB': 'V',\n",
       " 'OB': 'V',\n",
       " 'HN': 'S',\n",
       " 'OK': 'N',\n",
       " 'PC': 'H',\n",
       " 'OO': 'P',\n",
       " 'HF': 'S',\n",
       " 'CB': 'C',\n",
       " 'SB': 'V',\n",
       " 'FN': 'B',\n",
       " 'PH': 'K',\n",
       " 'KH': 'P',\n",
       " 'NB': 'F',\n",
       " 'KF': 'P',\n",
       " 'FK': 'N',\n",
       " 'FB': 'P',\n",
       " 'FO': 'H',\n",
       " 'CV': 'V',\n",
       " 'CN': 'P',\n",
       " 'BN': 'N',\n",
       " 'SC': 'N',\n",
       " 'PB': 'K',\n",
       " 'VS': 'N',\n",
       " 'BP': 'P',\n",
       " 'CK': 'O',\n",
       " 'PS': 'N',\n",
       " 'PF': 'H',\n",
       " 'HB': 'S',\n",
       " 'VN': 'V',\n",
       " 'OS': 'V',\n",
       " 'OC': 'O',\n",
       " 'BB': 'F',\n",
       " 'SK': 'S',\n",
       " 'NF': 'F',\n",
       " 'FS': 'S',\n",
       " 'SN': 'N',\n",
       " 'FC': 'S',\n",
       " 'BH': 'N',\n",
       " 'HP': 'C',\n",
       " 'VK': 'F',\n",
       " 'CC': 'N',\n",
       " 'SV': 'H',\n",
       " 'SO': 'F',\n",
       " 'HH': 'C',\n",
       " 'PK': 'P',\n",
       " 'NV': 'B',\n",
       " 'KS': 'H',\n",
       " 'NP': 'H',\n",
       " 'VO': 'C',\n",
       " 'BK': 'V',\n",
       " 'VV': 'P',\n",
       " 'HK': 'B',\n",
       " 'CF': 'B',\n",
       " 'BF': 'O',\n",
       " 'OV': 'B',\n",
       " 'OH': 'C',\n",
       " 'PP': 'S',\n",
       " 'SP': 'S',\n",
       " 'CH': 'B',\n",
       " 'OF': 'F',\n",
       " 'NK': 'F',\n",
       " 'FV': 'F',\n",
       " 'KP': 'O',\n",
       " 'OP': 'O',\n",
       " 'SS': 'P',\n",
       " 'CP': 'H',\n",
       " 'BO': 'O',\n",
       " 'KK': 'F',\n",
       " 'HC': 'N',\n",
       " 'KO': 'V',\n",
       " 'CO': 'F',\n",
       " 'NC': 'P',\n",
       " 'ON': 'P',\n",
       " 'KV': 'C',\n",
       " 'BV': 'K',\n",
       " 'HO': 'F',\n",
       " 'PV': 'H',\n",
       " 'VC': 'O',\n",
       " 'NH': 'B',\n",
       " 'PN': 'H',\n",
       " 'VP': 'O',\n",
       " 'NS': 'N',\n",
       " 'NN': 'S',\n",
       " 'BS': 'H',\n",
       " 'SH': 'P',\n",
       " 'VB': 'V',\n",
       " 'VH': 'O',\n",
       " 'FH': 'K',\n",
       " 'FF': 'H',\n",
       " 'SF': 'N',\n",
       " 'BC': 'H',\n",
       " 'VF': 'P'}"
      ]
     },
     "execution_count": 118,
     "metadata": {},
     "output_type": "execute_result"
    }
   ],
   "source": [
    "# For part 2, we have to keep track of the NUMBER of paris that occur.\n",
    "# We luckily already have a list of this: poly_dict\n",
    "poly_dict"
   ]
  },
  {
   "cell_type": "code",
   "execution_count": null,
   "metadata": {},
   "outputs": [],
   "source": []
  }
 ],
 "metadata": {
  "kernelspec": {
   "display_name": "Python 3",
   "language": "python",
   "name": "python3"
  },
  "language_info": {
   "codemirror_mode": {
    "name": "ipython",
    "version": 3
   },
   "file_extension": ".py",
   "mimetype": "text/x-python",
   "name": "python",
   "nbconvert_exporter": "python",
   "pygments_lexer": "ipython3",
   "version": "3.7.4"
  }
 },
 "nbformat": 4,
 "nbformat_minor": 2
}
