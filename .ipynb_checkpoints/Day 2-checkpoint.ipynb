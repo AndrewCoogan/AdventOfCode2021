{
 "cells": [
  {
   "cell_type": "code",
   "execution_count": 2,
   "metadata": {},
   "outputs": [],
   "source": [
    "import pandas as pd"
   ]
  },
  {
   "cell_type": "code",
   "execution_count": 8,
   "metadata": {},
   "outputs": [],
   "source": [
    "data = pd.read_table('Files/Day2.txt', sep=' ', header=None)\n",
    "data.columns = ['Direction', 'Units']"
   ]
  },
  {
   "cell_type": "code",
   "execution_count": 12,
   "metadata": {},
   "outputs": [
    {
     "data": {
      "text/plain": [
       "2073315"
      ]
     },
     "execution_count": 12,
     "metadata": {},
     "output_type": "execute_result"
    }
   ],
   "source": [
    "horizontal_units = 0\n",
    "depth_units = 0\n",
    "\n",
    "for _, row in data.iterrows():\n",
    "    if row['Direction'] == 'forward':\n",
    "        horizontal_units += row['Units']\n",
    "    elif row['Direction'] == 'down':\n",
    "        depth_units += row['Units']\n",
    "    elif row['Direction'] == 'up':\n",
    "        depth_units -= row['Units']\n",
    "    else:\n",
    "        print(row)\n",
    "        \n",
    "horizontal_units * depth_units"
   ]
  },
  {
   "cell_type": "code",
   "execution_count": 13,
   "metadata": {},
   "outputs": [
    {
     "data": {
      "text/plain": [
       "1840311528"
      ]
     },
     "execution_count": 13,
     "metadata": {},
     "output_type": "execute_result"
    }
   ],
   "source": [
    "# Now we need to take into account 'aim'\n",
    "horizontal_units = 0\n",
    "depth_units = 0\n",
    "aim = 0\n",
    "\n",
    "for _, row in data.iterrows():\n",
    "    if row['Direction'] == 'forward':\n",
    "        horizontal_units += row['Units']\n",
    "        depth_units += aim * row['Units']\n",
    "    elif row['Direction'] == 'down':\n",
    "        aim += row['Units']\n",
    "    elif row['Direction'] == 'up':\n",
    "        aim -= row['Units']\n",
    "    else:\n",
    "        print(row)\n",
    "        \n",
    "horizontal_units * depth_units"
   ]
  },
  {
   "cell_type": "code",
   "execution_count": null,
   "metadata": {},
   "outputs": [],
   "source": []
  }
 ],
 "metadata": {
  "kernelspec": {
   "display_name": "Python 3",
   "language": "python",
   "name": "python3"
  },
  "language_info": {
   "codemirror_mode": {
    "name": "ipython",
    "version": 3
   },
   "file_extension": ".py",
   "mimetype": "text/x-python",
   "name": "python",
   "nbconvert_exporter": "python",
   "pygments_lexer": "ipython3",
   "version": "3.7.4"
  }
 },
 "nbformat": 4,
 "nbformat_minor": 2
}
