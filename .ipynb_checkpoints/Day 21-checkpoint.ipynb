{
 "cells": [
  {
   "cell_type": "markdown",
   "metadata": {},
   "source": [
    "Part 1 Input:\n",
    "\n",
    "Player 1 starting position: 7\n",
    "\n",
    "Player 2 starting position: 8\n",
    "\n",
    "Roll three die, the die increases by 1 for each roll.  Game ends when one player has 1000 points.  When the player lands on a space, that player receives that many points."
   ]
  },
  {
   "cell_type": "code",
   "execution_count": 40,
   "metadata": {},
   "outputs": [],
   "source": [
    "# I hate this, but gonna do it for this\n",
    "def gen_rolls():\n",
    "    rolls = list(range(1,101))\n",
    "    for i in range(5):\n",
    "        rolls.extend(rolls)\n",
    "        # This is going to exponentially get longer.\n",
    "    return rolls"
   ]
  },
  {
   "cell_type": "code",
   "execution_count": 79,
   "metadata": {},
   "outputs": [
    {
     "name": "stdout",
     "output_type": "stream",
     "text": [
      "Player 1 wins! Answer is 556206.\n"
     ]
    }
   ],
   "source": [
    "playing = 1\n",
    "player_1_pos = 7\n",
    "player_2_pos = 8\n",
    "player_1_points = 0\n",
    "player_2_points = 0\n",
    "roll_number = 0\n",
    "rolls = gen_rolls()\n",
    "debug = False\n",
    "\n",
    "for i in range(0,len(rolls),3):\n",
    "    roll_number += 3\n",
    "    roll_sum = sum(rolls[i:i+3])\n",
    "    if playing == 1:\n",
    "        player_1_pos += roll_sum\n",
    "        if player_1_pos > 10:\n",
    "            player_1_pos = player_1_pos % 10\n",
    "            if player_1_pos == 0:\n",
    "                player_1_pos = 10\n",
    "        player_1_points += player_1_pos\n",
    "    else:\n",
    "        player_2_pos += roll_sum\n",
    "        if player_2_pos > 10:\n",
    "            player_2_pos = player_2_pos % 10\n",
    "            if player_2_pos == 0:\n",
    "                player_2_pos = 10\n",
    "        player_2_points += player_2_pos\n",
    "        \n",
    "    if debug:\n",
    "        print(f'Player {playing} rolls {rolls[i:i+3]} and moves to space ' + \n",
    "              f'{player_1_pos if playing == 1 else player_2_pos} for a total score of ' + \n",
    "              f'{player_1_points if playing == 1 else player_2_points} (Roll Number {roll_number})')\n",
    "    \n",
    "    if player_1_points >= 1000:\n",
    "        print(f'Player 1 wins! Answer is {player_2_points * roll_number}.')\n",
    "        break\n",
    "    if player_2_points >= 1000:\n",
    "        print(f'Player 2 wins! Answer is {player_1_points * roll_number}.')\n",
    "        break\n",
    "        \n",
    "    playing = 2 if playing == 1 else 1\n"
   ]
  },
  {
   "cell_type": "code",
   "execution_count": 89,
   "metadata": {},
   "outputs": [
    {
     "name": "stdout",
     "output_type": "stream",
     "text": [
      "1\n",
      "2\n",
      "2\n"
     ]
    }
   ],
   "source": [
    "dice = 0\n",
    "\n",
    "def roll_dice():\n",
    "    global dice\n",
    "    dice += 1\n",
    "    return dice\n",
    "\n"
   ]
  },
  {
   "cell_type": "markdown",
   "metadata": {},
   "source": [
    "Submitted Answers: 433132 (too low)\n",
    "                   1299396 (too high)\n",
    "                   \n",
    "Issue I was having -- When the number looped to an number divisble by 10 it would set the position to zero, not 10.  For the next part, I am going to change this to index 0."
   ]
  },
  {
   "cell_type": "code",
   "execution_count": 82,
   "metadata": {},
   "outputs": [],
   "source": [
    "wins = {}\n",
    "def count_win(p1, p2, s1, s2):\n",
    "    # This will be a recursive function that will populate a dictionary with a certain set of parameters.\n",
    "    if s1 >= 21:\n",
    "        return (1,0)\n",
    "    if s2 >= 21:\n",
    "        return (0,1)\n",
    "    \n",
    "    if (p1, p2, s1, s2) in wins:  \n",
    "        # If we end up in a state that we know the answer to, we can add it to the output.\n",
    "        # When it comes down to it, all we care about is where the players are and how many points they have.\n",
    "        # This is called memoization! Since we get \n",
    "        return wins[(p1, p2, s1, s2)]\n",
    "    \n",
    "    score = (0,0)  # Current score\n",
    "    possible_rolls = [1,2,3]  # We roll the die three times, so we need to parse it apart \n",
    "    for r1 in possible_rolls:\n",
    "        for r2 in possible_rolls:\n",
    "            for r3 in possible_rolls:\n",
    "                p1_prime = (p1 + r1 + r2 + r3) % 10  # Mod 10 is 0-9, we need 1-10\n",
    "                s1_prime = (s1 + p1_prime + 1)  # Adding the 1 as we are moving this to index 0.\n",
    "                \n",
    "                # Flip the parameters so that we only need to write up one side of the game.\n",
    "                w1, w2 = count_win(p2, p1_prime, s2, s1_prime)\n",
    "                score = (score[0] + w2, score[1] + w1)\n",
    "    wins[(p1, p2, s1, s2)] = score\n",
    "    return score"
   ]
  },
  {
   "cell_type": "code",
   "execution_count": 85,
   "metadata": {},
   "outputs": [
    {
     "data": {
      "text/plain": [
       "630797200227453"
      ]
     },
     "execution_count": 85,
     "metadata": {},
     "output_type": "execute_result"
    }
   ],
   "source": [
    "max(count_win(7-1,8-1,0,0))"
   ]
  },
  {
   "cell_type": "code",
   "execution_count": 91,
   "metadata": {},
   "outputs": [
    {
     "data": {
      "text/plain": [
       "17903"
      ]
     },
     "execution_count": 91,
     "metadata": {},
     "output_type": "execute_result"
    }
   ],
   "source": [
    "len(wins.keys())"
   ]
  },
  {
   "cell_type": "code",
   "execution_count": null,
   "metadata": {},
   "outputs": [],
   "source": []
  }
 ],
 "metadata": {
  "kernelspec": {
   "display_name": "Python 3",
   "language": "python",
   "name": "python3"
  },
  "language_info": {
   "codemirror_mode": {
    "name": "ipython",
    "version": 3
   },
   "file_extension": ".py",
   "mimetype": "text/x-python",
   "name": "python",
   "nbconvert_exporter": "python",
   "pygments_lexer": "ipython3",
   "version": "3.7.4"
  }
 },
 "nbformat": 4,
 "nbformat_minor": 2
}
