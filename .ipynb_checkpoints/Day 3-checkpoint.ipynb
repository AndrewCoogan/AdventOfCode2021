{
 "cells": [
  {
   "cell_type": "code",
   "execution_count": 1,
   "metadata": {},
   "outputs": [],
   "source": [
    "import pandas as pd"
   ]
  },
  {
   "cell_type": "code",
   "execution_count": 27,
   "metadata": {},
   "outputs": [
    {
     "data": {
      "text/html": [
       "<div>\n",
       "<style scoped>\n",
       "    .dataframe tbody tr th:only-of-type {\n",
       "        vertical-align: middle;\n",
       "    }\n",
       "\n",
       "    .dataframe tbody tr th {\n",
       "        vertical-align: top;\n",
       "    }\n",
       "\n",
       "    .dataframe thead th {\n",
       "        text-align: right;\n",
       "    }\n",
       "</style>\n",
       "<table border=\"1\" class=\"dataframe\">\n",
       "  <thead>\n",
       "    <tr style=\"text-align: right;\">\n",
       "      <th></th>\n",
       "      <th>0</th>\n",
       "    </tr>\n",
       "  </thead>\n",
       "  <tbody>\n",
       "    <tr>\n",
       "      <td>0</td>\n",
       "      <td>010101110000</td>\n",
       "    </tr>\n",
       "    <tr>\n",
       "      <td>1</td>\n",
       "      <td>010011000110</td>\n",
       "    </tr>\n",
       "    <tr>\n",
       "      <td>2</td>\n",
       "      <td>010101000011</td>\n",
       "    </tr>\n",
       "    <tr>\n",
       "      <td>3</td>\n",
       "      <td>111100100001</td>\n",
       "    </tr>\n",
       "    <tr>\n",
       "      <td>4</td>\n",
       "      <td>011100110101</td>\n",
       "    </tr>\n",
       "  </tbody>\n",
       "</table>\n",
       "</div>"
      ],
      "text/plain": [
       "              0\n",
       "0  010101110000\n",
       "1  010011000110\n",
       "2  010101000011\n",
       "3  111100100001\n",
       "4  011100110101"
      ]
     },
     "execution_count": 27,
     "metadata": {},
     "output_type": "execute_result"
    }
   ],
   "source": [
    "data = pd.read_table('Files/Day3.txt', header=None, dtype=str)\n",
    "data.head()"
   ]
  },
  {
   "cell_type": "code",
   "execution_count": 33,
   "metadata": {},
   "outputs": [
    {
     "data": {
      "text/plain": [
       "['010101110000',\n",
       " '010011000110',\n",
       " '010101000011',\n",
       " '111100100001',\n",
       " '011100110101',\n",
       " '110001010101']"
      ]
     },
     "execution_count": 33,
     "metadata": {},
     "output_type": "execute_result"
    }
   ],
   "source": [
    "data_f = data[0].tolist()\n",
    "data_f[0:6]"
   ]
  },
  {
   "cell_type": "code",
   "execution_count": 59,
   "metadata": {},
   "outputs": [
    {
     "name": "stdout",
     "output_type": "stream",
     "text": [
      "Number of digits: 12\n"
     ]
    }
   ],
   "source": [
    "entries = len(data_f)\n",
    "log = {}\n",
    "\n",
    "for line in data_f:\n",
    "    position = 0\n",
    "    for bit in line:\n",
    "        if str(position) not in log.keys():\n",
    "            log[str(position)] = 0\n",
    "        log[str(position)] += int(bit)\n",
    "        position += 1\n",
    "\n",
    "print(f'Number of digits: {len(log.keys())}')"
   ]
  },
  {
   "cell_type": "code",
   "execution_count": 53,
   "metadata": {},
   "outputs": [
    {
     "name": "stdout",
     "output_type": "stream",
     "text": [
      "Gamma: 000110001010, Epsilon: 111001110101\n"
     ]
    }
   ],
   "source": [
    "gamma = ''\n",
    "epsilon = ''\n",
    "\n",
    "for key in log.keys():\n",
    "    if log[key] > entries/2:\n",
    "        gamma += '1'\n",
    "        epsilon += '0'\n",
    "    else:\n",
    "        gamma += '0'\n",
    "        epsilon += '1'\n",
    "        \n",
    "print(f'Gamma: {gamma}, Epsilon: {epsilon}')"
   ]
  },
  {
   "cell_type": "code",
   "execution_count": 54,
   "metadata": {},
   "outputs": [
    {
     "data": {
      "text/plain": [
       "1458194"
      ]
     },
     "execution_count": 54,
     "metadata": {},
     "output_type": "execute_result"
    }
   ],
   "source": [
    "gamma_i = int(gamma,2)\n",
    "epsilon_i = int(epsilon, 2)\n",
    "\n",
    "gamma_i * epsilon_i"
   ]
  },
  {
   "cell_type": "code",
   "execution_count": 116,
   "metadata": {},
   "outputs": [
    {
     "name": "stdout",
     "output_type": "stream",
     "text": [
      "Gamma: 000110001010, Epsilon: 111001110101\n"
     ]
    },
    {
     "data": {
      "text/plain": [
       "1458194"
      ]
     },
     "execution_count": 116,
     "metadata": {},
     "output_type": "execute_result"
    }
   ],
   "source": [
    "# Split into a dataframe, then sum the columns.\n",
    "data_split = pd.DataFrame([list(row) for row in data[0]])\n",
    "data_sc = data_split.apply(pd.to_numeric).sum()\n",
    "entries = data_split.shape[0]\n",
    "\n",
    "gamma = ''\n",
    "epsilon = ''\n",
    "\n",
    "for entry in data_sc:\n",
    "    if entry > entries/2:\n",
    "        gamma += '1'\n",
    "        epsilon += '0'\n",
    "    else:\n",
    "        gamma += '0'\n",
    "        epsilon += '1'\n",
    "        \n",
    "print(f'Gamma: {gamma}, Epsilon: {epsilon}')\n",
    "\n",
    "gamma_i = int(gamma,2)\n",
    "epsilon_i = int(epsilon, 2)\n",
    "\n",
    "gamma_i * epsilon_i"
   ]
  },
  {
   "cell_type": "code",
   "execution_count": 185,
   "metadata": {},
   "outputs": [
    {
     "name": "stdout",
     "output_type": "stream",
     "text": [
      "1000\n",
      "502\n",
      "265\n",
      "133\n",
      "68\n",
      "39\n",
      "20\n",
      "11\n",
      "6\n",
      "4\n",
      "2\n",
      "2\n"
     ]
    }
   ],
   "source": [
    "oxygen_df = data_split.apply(pd.to_numeric).copy()\n",
    "oxygen = ''\n",
    "\n",
    "for i in range(data_split.shape[1]):\n",
    "    print(oxygen_df.shape[0])\n",
    "    if oxygen_df.shape[0] > 1:\n",
    "        rounded_bit = 1 if oxygen_df[i].sum()/oxygen_df.shape[0] >= 0.5 else 0\n",
    "        oxygen_df = oxygen_df[oxygen_df[i] == rounded_bit]\n",
    "        oxygen += str(int(rounded_bit))\n",
    "    else:\n",
    "        oxygen += str(int(oxygen_df[i]))"
   ]
  },
  {
   "cell_type": "code",
   "execution_count": 187,
   "metadata": {},
   "outputs": [
    {
     "name": "stdout",
     "output_type": "stream",
     "text": [
      "1000\n",
      "498\n",
      "246\n",
      "114\n",
      "56\n",
      "24\n",
      "10\n",
      "4\n",
      "2\n",
      "1\n",
      "1\n",
      "1\n",
      "Oxygen: 001100010101 CO2: 111000000010\n",
      "Oxygen: 789 CO2: 3586\n"
     ]
    },
    {
     "data": {
      "text/plain": [
       "2829354"
      ]
     },
     "execution_count": 187,
     "metadata": {},
     "output_type": "execute_result"
    }
   ],
   "source": [
    "co2_df = data_split.apply(pd.to_numeric).copy()\n",
    "co2 = ''\n",
    "\n",
    "for i in range(data_split.shape[1]):\n",
    "    print(co2_df.shape[0])\n",
    "    if co2_df.shape[0] > 1:\n",
    "        rounded_bit = 1 if co2_df[i].sum()/co2_df.shape[0] < 0.5 else 0\n",
    "        co2_df = co2_df[co2_df[i] == rounded_bit]\n",
    "        co2 += str(int(rounded_bit))\n",
    "    else:\n",
    "        co2 += str(int(co2_df[i]))\n",
    "        \n",
    "print(f'Oxygen: {oxygen} CO2: {co2}')\n",
    "\n",
    "oxygen_i = int(oxygen,2)\n",
    "co2_i = int(co2, 2)\n",
    "\n",
    "print(f'Oxygen: {oxygen_i} CO2: {co2_i}')\n",
    "\n",
    "oxygen_i * co2_i"
   ]
  }
 ],
 "metadata": {
  "kernelspec": {
   "display_name": "Python 3",
   "language": "python",
   "name": "python3"
  },
  "language_info": {
   "codemirror_mode": {
    "name": "ipython",
    "version": 3
   },
   "file_extension": ".py",
   "mimetype": "text/x-python",
   "name": "python",
   "nbconvert_exporter": "python",
   "pygments_lexer": "ipython3",
   "version": "3.7.4"
  }
 },
 "nbformat": 4,
 "nbformat_minor": 2
}
