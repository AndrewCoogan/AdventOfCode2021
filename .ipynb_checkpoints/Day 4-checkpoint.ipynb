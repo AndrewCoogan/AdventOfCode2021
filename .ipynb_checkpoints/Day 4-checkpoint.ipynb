{
 "cells": [
  {
   "cell_type": "code",
   "execution_count": 5,
   "metadata": {},
   "outputs": [],
   "source": [
    "import pandas as pd\n",
    "import numpy as np"
   ]
  },
  {
   "cell_type": "code",
   "execution_count": 9,
   "metadata": {},
   "outputs": [],
   "source": [
    "data = pd.read_csv('Files/Day4.txt', header=None)"
   ]
  },
  {
   "cell_type": "code",
   "execution_count": 201,
   "metadata": {},
   "outputs": [
    {
     "data": {
      "text/plain": [
       "{'Deck':     0   1   2   3   4\n",
       " 0  50  83   3  31  16\n",
       " 1  47   9  94  10  86\n",
       " 2  61  22  53  46  74\n",
       " 3  77  41  79  55  62\n",
       " 4  97  78  43  73  40, 'Selected':    0  1  2  3  4\n",
       " 0  0  0  0  0  0\n",
       " 1  0  0  0  0  0\n",
       " 2  0  0  0  0  0\n",
       " 3  0  0  0  0  0\n",
       " 4  0  0  0  0  0, 'Won': False}"
      ]
     },
     "execution_count": 201,
     "metadata": {},
     "output_type": "execute_result"
    }
   ],
   "source": [
    "#  These is probably a better way of doing this, but I am not sure how.\n",
    "keys = data.iloc[0,:].astype(int).tolist()\n",
    "bingo_df = pd.DataFrame(data.iloc[1:,0])\n",
    "bingo_card_dimension = 5\n",
    "bingo_card_deck = []\n",
    "\n",
    "for i in range(0, bingo_df.shape[0], bingo_card_dimension):\n",
    "    bingo_card = pd.DataFrame(bingo_df.iloc[i:i+bingo_card_dimension,:])\n",
    "    bingo_card = bingo_card.apply(lambda line: line.str.strip(). # This is to remove leading and trailing white space\n",
    "                                  str.replace('  ', ' '). # For single digits in the middle, this makes it one space\n",
    "                                  str.split(' ')) # Now that everything is one space, we can split it easily\n",
    "    bingo_card_deck.append(\n",
    "        {\n",
    "            \"Deck\" : pd.DataFrame(list(bingo_card[0])),\n",
    "            \"Selected\" : pd.DataFrame(0, index=range(bingo_card_dimension), columns=range(bingo_card_dimension)),\n",
    "            \"Won\" : False\n",
    "        }\n",
    "    )\n",
    "    \n",
    "bingo_card_deck[0]"
   ]
  },
  {
   "cell_type": "code",
   "execution_count": 183,
   "metadata": {},
   "outputs": [
    {
     "name": "stdout",
     "output_type": "stream",
     "text": [
      "Winner!\n"
     ]
    }
   ],
   "source": [
    "winner = False\n",
    "for pulled_number in keys:\n",
    "    for indiv_bingo_card in bingo_card_deck:\n",
    "        if str(pulled_number) in indiv_bingo_card['Deck'].values:\n",
    "            where_am_i = indiv_bingo_card['Deck'].isin([str(pulled_number)])\n",
    "            coord = np.where(where_am_i)\n",
    "            coordinates = [(x,y) for x, y in zip(coord[0], coord[1])]\n",
    "            \n",
    "            for coordinate in coordinates: # I dont think this is needed, but I am going to keep it just in case.\n",
    "                indiv_bingo_card['Selected'].iloc[coordinate] = 1\n",
    "            \n",
    "            # Do any of the rows or columns add up to 5?\n",
    "            # What about the two diagonals?\n",
    "            winner = any([any(indiv_bingo_card['Selected'].apply(sum, axis = 0) == bingo_card_dimension), \n",
    "                          any(indiv_bingo_card['Selected'].apply(sum, axis = 1) == bingo_card_dimension),\n",
    "                          np.diag(indiv_bingo_card['Selected']).sum() == bingo_card_dimension,\n",
    "                          np.diag(indiv_bingo_card['Selected'].iloc[::-1]).sum() == bingo_card_dimension])\n",
    "            \n",
    "            if winner:\n",
    "                print('Winner!')\n",
    "                winning_card = indiv_bingo_card\n",
    "        if winner: break\n",
    "    if winner: break"
   ]
  },
  {
   "cell_type": "code",
   "execution_count": 184,
   "metadata": {},
   "outputs": [
    {
     "data": {
      "text/plain": [
       "{'Deck':     0   1   2   3   4\n",
       " 0  84  78   3  44  96\n",
       " 1  59  86  70  80  48\n",
       " 2  93  88  52  43  61\n",
       " 3  95  66  46  62  58\n",
       " 4   5  25   6  85  99, 'Selected':    0  1  2  3  4\n",
       " 0  0  0  0  0  0\n",
       " 1  0  0  0  0  1\n",
       " 2  0  1  0  1  0\n",
       " 3  1  1  1  1  1\n",
       " 4  0  0  0  0  0}"
      ]
     },
     "execution_count": 184,
     "metadata": {},
     "output_type": "execute_result"
    }
   ],
   "source": [
    "winning_card"
   ]
  },
  {
   "cell_type": "code",
   "execution_count": 188,
   "metadata": {},
   "outputs": [
    {
     "data": {
      "text/plain": [
       "67716"
      ]
     },
     "execution_count": 188,
     "metadata": {},
     "output_type": "execute_result"
    }
   ],
   "source": [
    "not_selectd_values = winning_card['Selected'].isin([str(0)])\n",
    "coord = np.where(not_selectd_values)\n",
    "coordinates = [(x,y) for x, y in zip(coord[0], coord[1])]\n",
    "sum_of_not_selected_numbers = 0\n",
    "for coordinate in coordinates:\n",
    "    sum_of_not_selected_numbers += int(winning_card['Deck'].iloc[coordinate])\n",
    "sum_of_not_selected_numbers * pulled_number"
   ]
  },
  {
   "cell_type": "code",
   "execution_count": 202,
   "metadata": {},
   "outputs": [
    {
     "name": "stdout",
     "output_type": "stream",
     "text": [
      "We have our last winner!\n"
     ]
    }
   ],
   "source": [
    "# Part 2, which will win last\n",
    "last_winner = False\n",
    "for pulled_number in keys:\n",
    "    for indiv_bingo_card in bingo_card_deck:\n",
    "        if indiv_bingo_card['Won']: \n",
    "            continue  # If the card is won we dont have to do anything else to it.\n",
    "        \n",
    "        if str(pulled_number) in indiv_bingo_card['Deck'].values:\n",
    "            where_am_i = indiv_bingo_card['Deck'].isin([str(pulled_number)])\n",
    "            coord = np.where(where_am_i)\n",
    "            coordinates = [(x,y) for x, y in zip(coord[0], coord[1])]\n",
    "            \n",
    "            for coordinate in coordinates: # I dont think this is needed, but I am going to keep it just in case.\n",
    "                indiv_bingo_card['Selected'].iloc[coordinate] = 1\n",
    "            \n",
    "            # Do any of the rows or columns add up to 5?\n",
    "            # What about the two diagonals?\n",
    "            winner = any([any(indiv_bingo_card['Selected'].apply(sum, axis = 0) == bingo_card_dimension), \n",
    "                          any(indiv_bingo_card['Selected'].apply(sum, axis = 1) == bingo_card_dimension),\n",
    "                          np.diag(indiv_bingo_card['Selected']).sum() == bingo_card_dimension,\n",
    "                          np.diag(indiv_bingo_card['Selected'].iloc[::-1]).sum() == bingo_card_dimension])\n",
    "            \n",
    "            if winner:\n",
    "                indiv_bingo_card['Won'] = True\n",
    "                if sum(list(map(lambda l: l['Won'], bingo_card_deck))) == len(bingo_card_deck):\n",
    "                    print('We have our last winner!')\n",
    "                    last_winner = True\n",
    "                    last_winning_card = indiv_bingo_card\n",
    "                \n",
    "        if last_winner: break\n",
    "    if last_winner: break"
   ]
  },
  {
   "cell_type": "code",
   "execution_count": 203,
   "metadata": {},
   "outputs": [
    {
     "data": {
      "text/plain": [
       "1830"
      ]
     },
     "execution_count": 203,
     "metadata": {},
     "output_type": "execute_result"
    }
   ],
   "source": [
    "not_selectd_values = last_winning_card['Selected'].isin([str(0)])\n",
    "coord = np.where(not_selectd_values)\n",
    "coordinates = [(x,y) for x, y in zip(coord[0], coord[1])]\n",
    "sum_of_not_selected_numbers = 0\n",
    "for coordinate in coordinates:\n",
    "    sum_of_not_selected_numbers += int(last_winning_card['Deck'].iloc[coordinate])\n",
    "sum_of_not_selected_numbers * pulled_number"
   ]
  },
  {
   "cell_type": "code",
   "execution_count": null,
   "metadata": {},
   "outputs": [],
   "source": []
  }
 ],
 "metadata": {
  "kernelspec": {
   "display_name": "Python 3",
   "language": "python",
   "name": "python3"
  },
  "language_info": {
   "codemirror_mode": {
    "name": "ipython",
    "version": 3
   },
   "file_extension": ".py",
   "mimetype": "text/x-python",
   "name": "python",
   "nbconvert_exporter": "python",
   "pygments_lexer": "ipython3",
   "version": "3.7.4"
  }
 },
 "nbformat": 4,
 "nbformat_minor": 2
}
