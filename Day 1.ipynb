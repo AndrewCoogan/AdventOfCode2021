{
 "cells": [
  {
   "cell_type": "code",
   "execution_count": 4,
   "metadata": {},
   "outputs": [],
   "source": [
    "import pandas as pd"
   ]
  },
  {
   "cell_type": "code",
   "execution_count": 45,
   "metadata": {},
   "outputs": [
    {
     "data": {
      "text/plain": [
       "1583"
      ]
     },
     "execution_count": 45,
     "metadata": {},
     "output_type": "execute_result"
    }
   ],
   "source": [
    "data = pd.read_table('Files/Day1.txt', header=None)\n",
    "data = data.loc[:,0]  # Just coverting to a series\n",
    "data_first = list(data[:-1]) # Removing the last element\n",
    "data_last = list(data[1:]) # Removing the first element\n",
    "delta = [s - f for f, s in zip(data_first, data_last)] # Zipping to find the delta\n",
    "len(list(filter(lambda d: d > 0, delta))) # Counting the length of the positive numbers"
   ]
  },
  {
   "cell_type": "code",
   "execution_count": 47,
   "metadata": {},
   "outputs": [
    {
     "data": {
      "text/plain": [
       "1627"
      ]
     },
     "execution_count": 47,
     "metadata": {},
     "output_type": "execute_result"
    }
   ],
   "source": [
    "data_first = list(data[:-2]) # Removing last two\n",
    "data_middle = list(data[1:-1]) # Removing the tails\n",
    "data_last = list(data[2:]) # Removing the first two\n",
    "agg = [f + m + l for f, m, l in zip(data_first, data_middle, data_last)]  # Aggregate\n",
    "agg_f = agg[:-1]  # To find the deltas we need to do this again, kinda\n",
    "agg_l = agg[1:]  # Take the fist n-1 and last n-1\n",
    "delta = [s - f for f, s in zip(agg_f, agg_l)] # Zipping to find the delta\n",
    "len(list(filter(lambda d: d > 0, delta))) # Counting the length of the positive numbers"
   ]
  },
  {
   "cell_type": "code",
   "execution_count": null,
   "metadata": {},
   "outputs": [],
   "source": []
  }
 ],
 "metadata": {
  "kernelspec": {
   "display_name": "Python 3",
   "language": "python",
   "name": "python3"
  },
  "language_info": {
   "codemirror_mode": {
    "name": "ipython",
    "version": 3
   },
   "file_extension": ".py",
   "mimetype": "text/x-python",
   "name": "python",
   "nbconvert_exporter": "python",
   "pygments_lexer": "ipython3",
   "version": "3.7.4"
  }
 },
 "nbformat": 4,
 "nbformat_minor": 2
}
