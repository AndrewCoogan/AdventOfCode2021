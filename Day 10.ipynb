{
 "cells": [
  {
   "cell_type": "code",
   "execution_count": 1,
   "metadata": {},
   "outputs": [],
   "source": [
    "import pandas as pd"
   ]
  },
  {
   "cell_type": "code",
   "execution_count": 3,
   "metadata": {},
   "outputs": [],
   "source": [
    "data = pd.read_csv('Files/Day10.txt', header=None)"
   ]
  },
  {
   "cell_type": "code",
   "execution_count": 22,
   "metadata": {},
   "outputs": [],
   "source": [
    "open_symbols = ['(', '[', '{', '<']\n",
    "close_symbols = [')', ']', '}', '>']\n",
    "\n",
    "penalty = {\n",
    "    ')' : 3,\n",
    "    ']' : 57,\n",
    "    '}' : 1197,\n",
    "    '>' : 25137\n",
    "}"
   ]
  },
  {
   "cell_type": "code",
   "execution_count": 50,
   "metadata": {},
   "outputs": [
    {
     "name": "stdout",
     "output_type": "stream",
     "text": [
      "235500\n"
     ]
    }
   ],
   "source": [
    "penalty_sum = 0\n",
    "last_open = None\n",
    "for _, row in data.iterrows():\n",
    "    corrupted_row = False\n",
    "    count = [0,0,0,0]\n",
    "    for symbol in row[0]:\n",
    "        if symbol in open_symbols:\n",
    "            count[open_symbols.index(symbol)] += 1\n",
    "            last_open = symbol\n",
    "        else:\n",
    "            count[close_symbols.index(symbol)] -= 1\n",
    "            if count[close_symbols.index(symbol)] == 0:\n",
    "                penalty_sum += penalty[close_symbols[open_symbols.index(last_open)]]\n",
    "                #penalty_sum += penalty[symbol]\n",
    "                corrupted_row = True\n",
    "        \n",
    "        if corrupted_row: \n",
    "            break\n",
    "                \n",
    "print(penalty_sum)"
   ]
  },
  {
   "cell_type": "markdown",
   "metadata": {},
   "source": [
    "Guesses:\n",
    "    1258599\n",
    "    990753\n",
    "    362094\n",
    "    57\n",
    "    877494"
   ]
  },
  {
   "cell_type": "code",
   "execution_count": 84,
   "metadata": {
    "scrolled": true
   },
   "outputs": [
    {
     "name": "stdout",
     "output_type": "stream",
     "text": [
      "Expected ], but found > instead.\n",
      "Expected ], but found > instead.\n",
      "Expected ), but found > instead.\n",
      "Expected ), but found > instead.\n",
      "Expected ), but found > instead.\n",
      "Expected ], but found } instead.\n",
      "Expected >, but found ) instead.\n",
      "Expected ], but found ) instead.\n",
      "Expected }, but found ] instead.\n",
      "Expected >, but found ] instead.\n",
      "Expected >, but found ] instead.\n",
      "Expected >, but found ] instead.\n",
      "Expected >, but found } instead.\n",
      "Expected ), but found ] instead.\n",
      "Expected >, but found ) instead.\n",
      "Expected }, but found ] instead.\n",
      "Expected }, but found ) instead.\n",
      "Expected ), but found } instead.\n",
      "Expected ), but found } instead.\n",
      "Expected ), but found } instead.\n",
      "Expected ], but found > instead.\n",
      "Expected >, but found ] instead.\n",
      "Expected ], but found ) instead.\n",
      "Expected >, but found ) instead.\n",
      "Expected ], but found ) instead.\n",
      "Expected }, but found > instead.\n",
      "Expected }, but found ] instead.\n",
      "Expected ), but found } instead.\n",
      "Expected }, but found > instead.\n",
      "Expected }, but found ) instead.\n",
      "Expected ), but found ] instead.\n",
      "Expected >, but found } instead.\n",
      "Expected >, but found ) instead.\n",
      "Expected >, but found ) instead.\n",
      "Expected >, but found } instead.\n",
      "Expected ), but found ] instead.\n",
      "Expected }, but found ) instead.\n",
      "Expected ], but found ) instead.\n",
      "Expected }, but found ] instead.\n",
      "Expected >, but found ] instead.\n",
      "Expected >, but found ] instead.\n",
      "Expected }, but found > instead.\n",
      "Expected ), but found > instead.\n",
      "Expected ), but found } instead.\n",
      "Expected >, but found ) instead.\n",
      "Expected ), but found } instead.\n",
      "Expected }, but found ) instead.\n",
      "Expected }, but found > instead.\n",
      "Expected ], but found ) instead.\n",
      "Expected }, but found > instead.\n",
      "Expected }, but found ] instead.\n",
      "Expected ], but found } instead.\n",
      "Expected ), but found } instead.\n"
     ]
    },
    {
     "data": {
      "text/plain": [
       "316851"
      ]
     },
     "execution_count": 84,
     "metadata": {},
     "output_type": "execute_result"
    }
   ],
   "source": [
    "penalty_sum = 0\n",
    "for _, row in data.iterrows():\n",
    "    symbols = []\n",
    "    count = [0,0,0,0]\n",
    "    for symbol in row[0]:\n",
    "        if symbol in open_symbols:\n",
    "            symbols.append(symbol)\n",
    "        else:\n",
    "            last_symbol = symbols[-1]\n",
    "            if last_symbol != open_symbols[close_symbols.index(symbol)]:\n",
    "                print(f'Expected {close_symbols[open_symbols.index(last_symbol)]}, but found {symbol} instead.')\n",
    "                penalty_sum += penalty[symbol]\n",
    "                break  \n",
    "            else:\n",
    "                symbols.pop()\n",
    "                \n",
    "penalty_sum"
   ]
  },
  {
   "cell_type": "code",
   "execution_count": 117,
   "metadata": {},
   "outputs": [
    {
     "name": "stdout",
     "output_type": "stream",
     "text": [
      "2182912364\n"
     ]
    }
   ],
   "source": [
    "# Part 2\n",
    "# Discard corrupted lines, fix the incomplete ones.\n",
    "data_v = pd.read_csv('Files/Day10Validate.txt', header=None)\n",
    "scores = []\n",
    "\n",
    "points = {\n",
    "    ')' : 1,\n",
    "    ']' : 2,\n",
    "    '}' : 3,\n",
    "    '>' : 4\n",
    "}\n",
    "\n",
    "for _, row in data.iterrows():\n",
    "    symbols = []\n",
    "    corrupted = False\n",
    "    score = 0\n",
    "    for symbol in row[0]:\n",
    "        if symbol in open_symbols:\n",
    "            symbols.append(symbol)\n",
    "        else:\n",
    "            last_symbol = symbols[-1]\n",
    "            if last_symbol != open_symbols[close_symbols.index(symbol)]:\n",
    "                corrupted = True\n",
    "                break  \n",
    "            else:\n",
    "                symbols.pop()\n",
    "    \n",
    "    if not corrupted:\n",
    "        # We need to unwind symbols, LIFO order.\n",
    "        while len(symbols):\n",
    "            score = (5 * score) + points[close_symbols[open_symbols.index(symbols[-1])]]\n",
    "            symbols.pop()\n",
    "        scores.append(score)\n",
    "\n",
    "scores.sort()\n",
    "\n",
    "print(scores[int((len(scores)-1)/2)]) # Index 0, "
   ]
  },
  {
   "cell_type": "code",
   "execution_count": null,
   "metadata": {},
   "outputs": [],
   "source": []
  }
 ],
 "metadata": {
  "kernelspec": {
   "display_name": "Python 3",
   "language": "python",
   "name": "python3"
  },
  "language_info": {
   "codemirror_mode": {
    "name": "ipython",
    "version": 3
   },
   "file_extension": ".py",
   "mimetype": "text/x-python",
   "name": "python",
   "nbconvert_exporter": "python",
   "pygments_lexer": "ipython3",
   "version": "3.7.4"
  }
 },
 "nbformat": 4,
 "nbformat_minor": 2
}
