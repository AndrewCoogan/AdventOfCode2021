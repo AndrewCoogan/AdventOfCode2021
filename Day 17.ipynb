{
 "cells": [
  {
   "cell_type": "code",
   "execution_count": 63,
   "metadata": {},
   "outputs": [],
   "source": [
    "import numpy as np\n",
    "from tqdm import tqdm"
   ]
  },
  {
   "cell_type": "markdown",
   "metadata": {},
   "source": [
    "target area: x=236..262, y=-78..-58\n",
    "\n",
    "The target of part 1 is to find the maximum height of a probe that has a valid solution for the above.\n",
    "This needs to be thought of as graphing problem."
   ]
  },
  {
   "cell_type": "code",
   "execution_count": 60,
   "metadata": {},
   "outputs": [],
   "source": [
    "def trajectory(x, y, x_range, y_range):\n",
    "    new_point = (0,0)\n",
    "    positions = [new_point]\n",
    "    not_breached = True\n",
    "    while not_breached:\n",
    "        prior_point = new_point\n",
    "        new_point = (prior_point[0] + x, prior_point[1] + y)\n",
    "        positions.append(new_point)\n",
    "        x = x - 1 if x > 0 else x + 1 if x < 0 else 0\n",
    "        y = y - 1\n",
    "        not_breached = (new_point[0] < x_range[1]) & (new_point[1] > y_range[1])\n",
    "    return positions\n",
    "\n",
    "def valid_lob(traj, x_range, y_range):\n",
    "    for t in traj:\n",
    "        if (x_range[0] <= t[0] <= x_range[1]) & (y_range[0] >= t[1] >= y_range[1]):\n",
    "            return True\n",
    "    return False\n",
    "\n",
    "def max_height(traj):\n",
    "    return np.max([t[1] for t in traj])"
   ]
  },
  {
   "cell_type": "code",
   "execution_count": 70,
   "metadata": {},
   "outputs": [
    {
     "data": {
      "text/plain": [
       "[(0, 0),\n",
       " (25, 1),\n",
       " (49, 1),\n",
       " (72, 0),\n",
       " (94, -2),\n",
       " (115, -5),\n",
       " (135, -9),\n",
       " (154, -14),\n",
       " (172, -20),\n",
       " (189, -27),\n",
       " (205, -35),\n",
       " (220, -44),\n",
       " (234, -54),\n",
       " (247, -65)]"
      ]
     },
     "execution_count": 70,
     "metadata": {},
     "output_type": "execute_result"
    }
   ],
   "source": [
    "path = trajectory(2, 1, (236,262), (-78,-58))\n",
    "path"
   ]
  },
  {
   "cell_type": "code",
   "execution_count": 52,
   "metadata": {},
   "outputs": [
    {
     "data": {
      "text/plain": [
       "False"
      ]
     },
     "execution_count": 52,
     "metadata": {},
     "output_type": "execute_result"
    }
   ],
   "source": [
    "valid_lob(path, (236,262), (-78,-58))"
   ]
  },
  {
   "cell_type": "code",
   "execution_count": 53,
   "metadata": {},
   "outputs": [
    {
     "data": {
      "text/plain": [
       "True"
      ]
     },
     "execution_count": 53,
     "metadata": {},
     "output_type": "execute_result"
    }
   ],
   "source": [
    "valid_lob(path, (40,50), (-9,-20))"
   ]
  },
  {
   "cell_type": "code",
   "execution_count": 91,
   "metadata": {},
   "outputs": [
    {
     "name": "stderr",
     "output_type": "stream",
     "text": [
      "100%|██████████| 40/40 [00:01<00:00, 23.98it/s]\n"
     ]
    }
   ],
   "source": [
    "# Although this seems innefficient, its actually very fast.\n",
    "\n",
    "x_target = (236,262)\n",
    "y_target = (-58,-78)  # I had to reverse this.\n",
    "highest_lob = 0\n",
    "\n",
    "for x in tqdm(range(20,60)):  # We know the minimum x_velocity needs to be ~20ish.\n",
    "    for y in range(0,1000,1):\n",
    "        path = trajectory(x, y, x_target, y_target)\n",
    "        if valid_lob(path, x_target, y_target):\n",
    "            #print(f'Valid x {x} and y {y}')\n",
    "            height = max_height(path)\n",
    "            if height > highest_lob:\n",
    "                highest_lob = height"
   ]
  },
  {
   "cell_type": "code",
   "execution_count": 92,
   "metadata": {},
   "outputs": [
    {
     "data": {
      "text/plain": [
       "3003"
      ]
     },
     "execution_count": 92,
     "metadata": {},
     "output_type": "execute_result"
    }
   ],
   "source": [
    "highest_lob"
   ]
  },
  {
   "cell_type": "code",
   "execution_count": 97,
   "metadata": {},
   "outputs": [
    {
     "name": "stderr",
     "output_type": "stream",
     "text": [
      "100%|██████████| 280/280 [00:02<00:00, 116.14it/s]"
     ]
    },
    {
     "name": "stdout",
     "output_type": "stream",
     "text": [
      "Valid lobs 940\n"
     ]
    },
    {
     "name": "stderr",
     "output_type": "stream",
     "text": [
      "\n"
     ]
    }
   ],
   "source": [
    "x_target = (236,262)\n",
    "y_target = (-58,-78)  # I had to reverse this.\n",
    "valid_lobs = 0\n",
    "\n",
    "for x in tqdm(range(20,300)):  # We know the minimum x_velocity needs to be ~20ish.\n",
    "    for y in range(-1000,1000,1):\n",
    "        path = trajectory(x, y, x_target, y_target)\n",
    "        if valid_lob(path, x_target, y_target):\n",
    "            valid_lobs += 1\n",
    "print(f'Valid lobs {valid_lobs}')"
   ]
  },
  {
   "cell_type": "code",
   "execution_count": null,
   "metadata": {},
   "outputs": [],
   "source": [
    "# Guesses 65"
   ]
  }
 ],
 "metadata": {
  "kernelspec": {
   "display_name": "Python 3",
   "language": "python",
   "name": "python3"
  },
  "language_info": {
   "codemirror_mode": {
    "name": "ipython",
    "version": 3
   },
   "file_extension": ".py",
   "mimetype": "text/x-python",
   "name": "python",
   "nbconvert_exporter": "python",
   "pygments_lexer": "ipython3",
   "version": "3.7.4"
  }
 },
 "nbformat": 4,
 "nbformat_minor": 2
}
