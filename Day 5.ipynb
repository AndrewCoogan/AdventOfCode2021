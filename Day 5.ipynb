{
 "cells": [
  {
   "cell_type": "code",
   "execution_count": 131,
   "metadata": {},
   "outputs": [],
   "source": [
    "import pandas as pd\n",
    "import numpy as np\n",
    "from tqdm import tqdm\n",
    "from collections import Counter"
   ]
  },
  {
   "cell_type": "code",
   "execution_count": 98,
   "metadata": {},
   "outputs": [
    {
     "data": {
      "text/html": [
       "<div>\n",
       "<style scoped>\n",
       "    .dataframe tbody tr th:only-of-type {\n",
       "        vertical-align: middle;\n",
       "    }\n",
       "\n",
       "    .dataframe tbody tr th {\n",
       "        vertical-align: top;\n",
       "    }\n",
       "\n",
       "    .dataframe thead th {\n",
       "        text-align: right;\n",
       "    }\n",
       "</style>\n",
       "<table border=\"1\" class=\"dataframe\">\n",
       "  <thead>\n",
       "    <tr style=\"text-align: right;\">\n",
       "      <th></th>\n",
       "      <th>Initial</th>\n",
       "      <th>Final</th>\n",
       "    </tr>\n",
       "  </thead>\n",
       "  <tbody>\n",
       "    <tr>\n",
       "      <td>0</td>\n",
       "      <td>[409, 872]</td>\n",
       "      <td>[409, 963]</td>\n",
       "    </tr>\n",
       "    <tr>\n",
       "      <td>1</td>\n",
       "      <td>[149, 412]</td>\n",
       "      <td>[281, 280]</td>\n",
       "    </tr>\n",
       "    <tr>\n",
       "      <td>2</td>\n",
       "      <td>[435, 281]</td>\n",
       "      <td>[435, 362]</td>\n",
       "    </tr>\n",
       "    <tr>\n",
       "      <td>3</td>\n",
       "      <td>[52, 208]</td>\n",
       "      <td>[969, 208]</td>\n",
       "    </tr>\n",
       "    <tr>\n",
       "      <td>4</td>\n",
       "      <td>[427, 265]</td>\n",
       "      <td>[884, 265]</td>\n",
       "    </tr>\n",
       "  </tbody>\n",
       "</table>\n",
       "</div>"
      ],
      "text/plain": [
       "      Initial       Final\n",
       "0  [409, 872]  [409, 963]\n",
       "1  [149, 412]  [281, 280]\n",
       "2  [435, 281]  [435, 362]\n",
       "3   [52, 208]  [969, 208]\n",
       "4  [427, 265]  [884, 265]"
      ]
     },
     "execution_count": 98,
     "metadata": {},
     "output_type": "execute_result"
    }
   ],
   "source": [
    "data = pd.read_csv('Files/Day5.txt', header=None, sep=\" \")\n",
    "data = data.loc[:,[0,2]]\n",
    "data.columns = ['Initial', 'Final']\n",
    "data['Initial'] = data['Initial'].apply(lambda l: l.split(','))\n",
    "data['Final'] = data['Final'].apply(lambda l: l.split(','))\n",
    "data.head()"
   ]
  },
  {
   "cell_type": "code",
   "execution_count": 93,
   "metadata": {},
   "outputs": [],
   "source": [
    "def create_range(init, final):\n",
    "    return list(range(init, final + 1)) if init < final else list(reversed(range(final, init + 1)))"
   ]
  },
  {
   "cell_type": "code",
   "execution_count": 172,
   "metadata": {},
   "outputs": [
    {
     "data": {
      "text/html": [
       "<div>\n",
       "<style scoped>\n",
       "    .dataframe tbody tr th:only-of-type {\n",
       "        vertical-align: middle;\n",
       "    }\n",
       "\n",
       "    .dataframe tbody tr th {\n",
       "        vertical-align: top;\n",
       "    }\n",
       "\n",
       "    .dataframe thead th {\n",
       "        text-align: right;\n",
       "    }\n",
       "</style>\n",
       "<table border=\"1\" class=\"dataframe\">\n",
       "  <thead>\n",
       "    <tr style=\"text-align: right;\">\n",
       "      <th></th>\n",
       "      <th>Initial</th>\n",
       "      <th>Final</th>\n",
       "      <th>Delta</th>\n",
       "      <th>Directon</th>\n",
       "    </tr>\n",
       "  </thead>\n",
       "  <tbody>\n",
       "    <tr>\n",
       "      <td>0</td>\n",
       "      <td>[409, 872]</td>\n",
       "      <td>[409, 963]</td>\n",
       "      <td>[(409, 872), (409, 873), (409, 874), (409, 875...</td>\n",
       "      <td>flat</td>\n",
       "    </tr>\n",
       "    <tr>\n",
       "      <td>1</td>\n",
       "      <td>[149, 412]</td>\n",
       "      <td>[281, 280]</td>\n",
       "      <td>[(149, 412), (150, 411), (151, 410), (152, 409...</td>\n",
       "      <td>diagonal</td>\n",
       "    </tr>\n",
       "    <tr>\n",
       "      <td>2</td>\n",
       "      <td>[435, 281]</td>\n",
       "      <td>[435, 362]</td>\n",
       "      <td>[(435, 281), (435, 282), (435, 283), (435, 284...</td>\n",
       "      <td>flat</td>\n",
       "    </tr>\n",
       "    <tr>\n",
       "      <td>3</td>\n",
       "      <td>[52, 208]</td>\n",
       "      <td>[969, 208]</td>\n",
       "      <td>[(52, 208), (53, 208), (54, 208), (55, 208), (...</td>\n",
       "      <td>flat</td>\n",
       "    </tr>\n",
       "    <tr>\n",
       "      <td>4</td>\n",
       "      <td>[427, 265]</td>\n",
       "      <td>[884, 265]</td>\n",
       "      <td>[(427, 265), (428, 265), (429, 265), (430, 265...</td>\n",
       "      <td>flat</td>\n",
       "    </tr>\n",
       "  </tbody>\n",
       "</table>\n",
       "</div>"
      ],
      "text/plain": [
       "      Initial       Final                                              Delta  \\\n",
       "0  [409, 872]  [409, 963]  [(409, 872), (409, 873), (409, 874), (409, 875...   \n",
       "1  [149, 412]  [281, 280]  [(149, 412), (150, 411), (151, 410), (152, 409...   \n",
       "2  [435, 281]  [435, 362]  [(435, 281), (435, 282), (435, 283), (435, 284...   \n",
       "3   [52, 208]  [969, 208]  [(52, 208), (53, 208), (54, 208), (55, 208), (...   \n",
       "4  [427, 265]  [884, 265]  [(427, 265), (428, 265), (429, 265), (430, 265...   \n",
       "\n",
       "   Directon  \n",
       "0      flat  \n",
       "1  diagonal  \n",
       "2      flat  \n",
       "3      flat  \n",
       "4      flat  "
      ]
     },
     "execution_count": 172,
     "metadata": {},
     "output_type": "execute_result"
    }
   ],
   "source": [
    "delta = []\n",
    "direction = []\n",
    "\n",
    "for _, row in data.iterrows():\n",
    "    initial_x = int(row['Initial'][0])\n",
    "    initial_y = int(row['Initial'][1])\n",
    "    final_x = int(row['Final'][0])\n",
    "    final_y = int(row['Final'][1])\n",
    "    \n",
    "    t_direction = 'diagonal'\n",
    "    \n",
    "    if initial_x == final_x:\n",
    "        x_range = [initial_x] * (np.abs(final_y - initial_y) + 1)\n",
    "        t_direction = 'flat'\n",
    "    else:\n",
    "        x_range = create_range(initial_x, final_x)\n",
    "\n",
    "    if initial_y == final_y:\n",
    "        y_range = [initial_y] * (np.abs(final_x - initial_x) + 1)\n",
    "        t_direction = 'flat'\n",
    "    else:\n",
    "        y_range = create_range(initial_y, final_y)\n",
    "    \n",
    "    delta.append(list(zip(x_range, y_range)))\n",
    "    direction.append(t_direction)\n",
    "\n",
    "data['Delta'] = delta\n",
    "data['Directon'] = direction\n",
    "data.head()"
   ]
  },
  {
   "cell_type": "code",
   "execution_count": 171,
   "metadata": {},
   "outputs": [
    {
     "data": {
      "text/plain": [
       "[(779, 741), (779, 740), (779, 739), (779, 738)]"
      ]
     },
     "execution_count": 171,
     "metadata": {},
     "output_type": "execute_result"
    }
   ],
   "source": [
    "# Testing 89,92 -> 884,887\n",
    "initial_x = 779\n",
    "final_x = 779\n",
    "initial_y = 741\n",
    "final_y = 738\n",
    "\n",
    "if initial_x == final_x:\n",
    "    x_range = [initial_x] * (np.abs(final_y - initial_y) + 1)\n",
    "else:\n",
    "    x_range = create_range(initial_x, final_x)\n",
    "\n",
    "if initial_y == final_y:\n",
    "    y_range = [initial_y] * (np.abs(final_x - initial_x ) + 1)\n",
    "else:\n",
    "    y_range = create_range(initial_y, final_y)\n",
    "    \n",
    "list(zip(x_range, y_range))"
   ]
  },
  {
   "cell_type": "code",
   "execution_count": 181,
   "metadata": {},
   "outputs": [
    {
     "data": {
      "text/plain": [
       "7436"
      ]
     },
     "execution_count": 181,
     "metadata": {},
     "output_type": "execute_result"
    }
   ],
   "source": [
    "# Part 1\n",
    "flat_lines = data.loc[data.Directon == 'flat']\n",
    "points = [item for sublist in flat_lines['Delta'] for item in sublist]\n",
    "unique_points = list(set(points))\n",
    "\n",
    "c = Counter(points)\n",
    "non_unique_points = 0\n",
    "for k in c.keys():\n",
    "    if c[k] > 1:\n",
    "        non_unique_points += 1\n",
    "non_unique_points"
   ]
  },
  {
   "cell_type": "code",
   "execution_count": 182,
   "metadata": {},
   "outputs": [
    {
     "data": {
      "text/plain": [
       "21104"
      ]
     },
     "execution_count": 182,
     "metadata": {},
     "output_type": "execute_result"
    }
   ],
   "source": [
    "# Part 2\n",
    "points = [item for sublist in data['Delta'] for item in sublist]\n",
    "unique_points = list(set(points))\n",
    "\n",
    "c = Counter(points)\n",
    "non_unique_points = 0\n",
    "for k in c.keys():\n",
    "    if c[k] > 1:\n",
    "        non_unique_points += 1\n",
    "non_unique_points"
   ]
  },
  {
   "cell_type": "code",
   "execution_count": null,
   "metadata": {},
   "outputs": [],
   "source": []
  }
 ],
 "metadata": {
  "kernelspec": {
   "display_name": "Python 3",
   "language": "python",
   "name": "python3"
  },
  "language_info": {
   "codemirror_mode": {
    "name": "ipython",
    "version": 3
   },
   "file_extension": ".py",
   "mimetype": "text/x-python",
   "name": "python",
   "nbconvert_exporter": "python",
   "pygments_lexer": "ipython3",
   "version": "3.7.4"
  }
 },
 "nbformat": 4,
 "nbformat_minor": 2
}
