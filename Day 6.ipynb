{
 "cells": [
  {
   "cell_type": "code",
   "execution_count": 51,
   "metadata": {},
   "outputs": [],
   "source": [
    "import pandas as pd\n",
    "from tqdm import tqdm"
   ]
  },
  {
   "cell_type": "code",
   "execution_count": 44,
   "metadata": {},
   "outputs": [
    {
     "name": "stdout",
     "output_type": "stream",
     "text": [
      "Initially we have 300 fish.\n"
     ]
    }
   ],
   "source": [
    "data = pd.read_csv('Files/Day6.txt', header=None)\n",
    "data = list(data.iloc[0])\n",
    "print(f'Initially we have {len(data)} fish.')"
   ]
  },
  {
   "cell_type": "code",
   "execution_count": 45,
   "metadata": {},
   "outputs": [
    {
     "data": {
      "text/plain": [
       "212"
      ]
     },
     "execution_count": 45,
     "metadata": {},
     "output_type": "execute_result"
    }
   ],
   "source": [
    "data.count(1)"
   ]
  },
  {
   "cell_type": "code",
   "execution_count": 61,
   "metadata": {},
   "outputs": [
    {
     "name": "stdout",
     "output_type": "stream",
     "text": [
      "[2, 3, 2, 0, 1]\n",
      "[1, 2, 1, 6, 0, 8]\n",
      "[0, 1, 0, 5, 6, 7, 8]\n",
      "[6, 0, 6, 4, 5, 6, 7, 8, 8]\n",
      "[5, 6, 5, 3, 4, 5, 6, 7, 7, 8]\n",
      "[4, 5, 4, 2, 3, 4, 5, 6, 6, 7]\n",
      "[3, 4, 3, 1, 2, 3, 4, 5, 5, 6]\n",
      "[2, 3, 2, 0, 1, 2, 3, 4, 4, 5]\n",
      "[1, 2, 1, 6, 0, 1, 2, 3, 3, 4, 8]\n",
      "[0, 1, 0, 5, 6, 0, 1, 2, 2, 3, 7, 8]\n"
     ]
    }
   ],
   "source": [
    "data = [3,4,3,1,2]\n",
    "\n",
    "for i in range(10):    \n",
    "    # Are any of the fish at 0?\n",
    "    fresh_fish = data.count(0)\n",
    "    if fresh_fish > 0:\n",
    "        data = data + [9]*fresh_fish\n",
    "        data = [7 if fish == 0 else fish for fish in data]\n",
    "        \n",
    "    data = [fish - 1 for fish in data] # This is going to move everything down one.\n",
    "    #print(f'At time iteration {i+1}, there are {len(data)} fish.')\n",
    "    print(data)"
   ]
  },
  {
   "cell_type": "markdown",
   "metadata": {},
   "source": [
    "Guesses:\n",
    "    895977\n",
    "    1065996"
   ]
  },
  {
   "cell_type": "code",
   "execution_count": 78,
   "metadata": {},
   "outputs": [
    {
     "name": "stdout",
     "output_type": "stream",
     "text": [
      "1757714216975\n"
     ]
    }
   ],
   "source": [
    "data = pd.read_csv('Files/Day6.txt', header=None)\n",
    "data = list(data.iloc[0])\n",
    "\n",
    "#data = [3,4,3,1,2]\n",
    "\n",
    "ages = dict.fromkeys(list(range(9)), 0)\n",
    "for key in ages.keys():\n",
    "    ages[key] = data.count(key)\n",
    "\n",
    "for i in range(256):\n",
    "    ages_list = list(ages.values()).copy()\n",
    "    for key in ages.keys():\n",
    "        if key < 8: ages[key] = ages_list[key + 1]\n",
    "    ages[6] += ages_list[0]\n",
    "    ages[8] = ages_list[0]\n",
    "\n",
    "print(sum(list(ages.values())))"
   ]
  },
  {
   "cell_type": "code",
   "execution_count": null,
   "metadata": {},
   "outputs": [],
   "source": []
  }
 ],
 "metadata": {
  "kernelspec": {
   "display_name": "Python 3",
   "language": "python",
   "name": "python3"
  },
  "language_info": {
   "codemirror_mode": {
    "name": "ipython",
    "version": 3
   },
   "file_extension": ".py",
   "mimetype": "text/x-python",
   "name": "python",
   "nbconvert_exporter": "python",
   "pygments_lexer": "ipython3",
   "version": "3.7.4"
  }
 },
 "nbformat": 4,
 "nbformat_minor": 2
}
