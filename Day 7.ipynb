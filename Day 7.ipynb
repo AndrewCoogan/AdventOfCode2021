{
 "cells": [
  {
   "cell_type": "code",
   "execution_count": 6,
   "metadata": {},
   "outputs": [],
   "source": [
    "import pandas as pd\n",
    "import numpy as np"
   ]
  },
  {
   "cell_type": "code",
   "execution_count": 2,
   "metadata": {},
   "outputs": [],
   "source": [
    "data = pd.read_csv('Files/Day7.txt', header=None)\n",
    "data = list(data.iloc[0])"
   ]
  },
  {
   "cell_type": "code",
   "execution_count": 8,
   "metadata": {},
   "outputs": [],
   "source": [
    "def fuel_used(positions, target):\n",
    "    delta = [np.abs(position - target) for position in positions]\n",
    "    return sum(delta)"
   ]
  },
  {
   "cell_type": "code",
   "execution_count": 14,
   "metadata": {},
   "outputs": [],
   "source": [
    "optimal_fuel_cost = np.inf\n",
    "for i in range(min(data), max(data)):\n",
    "    fuel_cost = fuel_used(data, i)\n",
    "    if fuel_cost < optimal_fuel_cost:\n",
    "        optimal_fuel_cost = fuel_cost\n",
    "        optimal_location = i"
   ]
  },
  {
   "cell_type": "code",
   "execution_count": 18,
   "metadata": {},
   "outputs": [
    {
     "data": {
      "text/plain": [
       "340056"
      ]
     },
     "execution_count": 18,
     "metadata": {},
     "output_type": "execute_result"
    }
   ],
   "source": [
    "optimal_fuel_cost"
   ]
  },
  {
   "cell_type": "code",
   "execution_count": 25,
   "metadata": {},
   "outputs": [],
   "source": [
    "def fuel_used_v2(positions, target, cost):\n",
    "    delta = [cost[np.abs(position - target)] for position in positions]\n",
    "    return sum(delta)"
   ]
  },
  {
   "cell_type": "code",
   "execution_count": 35,
   "metadata": {},
   "outputs": [
    {
     "data": {
      "text/plain": [
       "96592275"
      ]
     },
     "execution_count": 35,
     "metadata": {},
     "output_type": "execute_result"
    }
   ],
   "source": [
    "fuel_cost_list = []\n",
    "fuel_required = {}\n",
    "fuel_required[0] = 0\n",
    "for i in range(min(data) + 1, max(data)+1):\n",
    "    fuel_required[i] = i + fuel_required[i-1]\n",
    "\n",
    "optimal_fuel_cost = np.inf\n",
    "for i in range(min(data), max(data)):\n",
    "    fuel_cost = fuel_used_v2(data, i, fuel_required)\n",
    "    if fuel_cost < optimal_fuel_cost:\n",
    "        optimal_fuel_cost = fuel_cost\n",
    "        optimal_location = i\n",
    "    fuel_cost_list.append(fuel_cost)\n",
    "\n",
    "optimal_fuel_cost"
   ]
  },
  {
   "cell_type": "code",
   "execution_count": 42,
   "metadata": {},
   "outputs": [
    {
     "data": {
      "text/plain": [
       "Text(0, 0.5, 'Fuel Used')"
      ]
     },
     "execution_count": 42,
     "metadata": {},
     "output_type": "execute_result"
    },
    {
     "data": {
      "image/png": "[encoded data removed]",
      "text/plain": [
       "<Figure size 432x288 with 1 Axes>"
      ]
     },
     "metadata": {
      "needs_background": "light"
     },
     "output_type": "display_data"
    }
   ],
   "source": [
    "import matplotlib.pyplot as plt\n",
    "\n",
    "plt.plot(fuel_cost_list)\n",
    "plt.title('Fuel Used vs Cental Location')\n",
    "plt.xlabel('Cental Location')\n",
    "plt.ylabel('Fuel Used')"
   ]
  },
  {
   "cell_type": "code",
   "execution_count": 55,
   "metadata": {},
   "outputs": [
    {
     "name": "stdout",
     "output_type": "stream",
     "text": [
      "[460.44569979]\n"
     ]
    }
   ],
   "source": [
    "model = np.poly1d(np.polyfit(list(range(len(fuel_cost_list))), fuel_cost_list, 2))\n",
    "crit = model.deriv().r\n",
    "r_crit = crit[crit.imag==0].real\n",
    "print(r_crit)"
   ]
  },
  {
   "cell_type": "code",
   "execution_count": 56,
   "metadata": {},
   "outputs": [
    {
     "data": {
      "text/plain": [
       "96592275"
      ]
     },
     "execution_count": 56,
     "metadata": {},
     "output_type": "execute_result"
    }
   ],
   "source": [
    "fuel_cost_list[int(np.floor(r_crit[0]))]"
   ]
  },
  {
   "cell_type": "code",
   "execution_count": null,
   "metadata": {},
   "outputs": [],
   "source": []
  }
 ],
 "metadata": {
  "kernelspec": {
   "display_name": "Python 3",
   "language": "python",
   "name": "python3"
  },
  "language_info": {
   "codemirror_mode": {
    "name": "ipython",
    "version": 3
   },
   "file_extension": ".py",
   "mimetype": "text/x-python",
   "name": "python",
   "nbconvert_exporter": "python",
   "pygments_lexer": "ipython3",
   "version": "3.7.4"
  }
 },
 "nbformat": 4,
 "nbformat_minor": 2
}
