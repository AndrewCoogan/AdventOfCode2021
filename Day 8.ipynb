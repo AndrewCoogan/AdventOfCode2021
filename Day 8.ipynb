{
 "cells": [
  {
   "cell_type": "code",
   "execution_count": 1,
   "metadata": {},
   "outputs": [],
   "source": [
    "import pandas as pd"
   ]
  },
  {
   "cell_type": "code",
   "execution_count": 2,
   "metadata": {},
   "outputs": [
    {
     "data": {
      "text/html": [
       "<div>\n",
       "<style scoped>\n",
       "    .dataframe tbody tr th:only-of-type {\n",
       "        vertical-align: middle;\n",
       "    }\n",
       "\n",
       "    .dataframe tbody tr th {\n",
       "        vertical-align: top;\n",
       "    }\n",
       "\n",
       "    .dataframe thead th {\n",
       "        text-align: right;\n",
       "    }\n",
       "</style>\n",
       "<table border=\"1\" class=\"dataframe\">\n",
       "  <thead>\n",
       "    <tr style=\"text-align: right;\">\n",
       "      <th></th>\n",
       "      <th>0</th>\n",
       "      <th>1</th>\n",
       "    </tr>\n",
       "  </thead>\n",
       "  <tbody>\n",
       "    <tr>\n",
       "      <td>0</td>\n",
       "      <td>dacefg fegab de dceb bedag dae bcgaefd bdacg f...</td>\n",
       "      <td>acfebgd de dbagc deagcb</td>\n",
       "    </tr>\n",
       "    <tr>\n",
       "      <td>1</td>\n",
       "      <td>cfgda fdebgc bfcdeag dbg afgedb efbad bg cdfea...</td>\n",
       "      <td>dbg fbedgca gbea gbae</td>\n",
       "    </tr>\n",
       "    <tr>\n",
       "      <td>2</td>\n",
       "      <td>dgcbe egdafcb bgcfe dgbf cgbafe db ecbfad deb ...</td>\n",
       "      <td>edb bcefgd gdfb edb</td>\n",
       "    </tr>\n",
       "    <tr>\n",
       "      <td>3</td>\n",
       "      <td>fbgad bgedafc dcageb gcfbed bgdfca ebfag df fd...</td>\n",
       "      <td>gdecfb dbfgac cgabd fd</td>\n",
       "    </tr>\n",
       "    <tr>\n",
       "      <td>4</td>\n",
       "      <td>bacgd dbceg acedgf dgefb dcfbag cgbead edc ce ...</td>\n",
       "      <td>abec gdcfea cbdga agbcde</td>\n",
       "    </tr>\n",
       "  </tbody>\n",
       "</table>\n",
       "</div>"
      ],
      "text/plain": [
       "                                                   0  \\\n",
       "0  dacefg fegab de dceb bedag dae bcgaefd bdacg f...   \n",
       "1  cfgda fdebgc bfcdeag dbg afgedb efbad bg cdfea...   \n",
       "2  dgcbe egdafcb bgcfe dgbf cgbafe db ecbfad deb ...   \n",
       "3  fbgad bgedafc dcageb gcfbed bgdfca ebfag df fd...   \n",
       "4  bacgd dbceg acedgf dgefb dcfbag cgbead edc ce ...   \n",
       "\n",
       "                           1  \n",
       "0    acfebgd de dbagc deagcb  \n",
       "1      dbg fbedgca gbea gbae  \n",
       "2        edb bcefgd gdfb edb  \n",
       "3     gdecfb dbfgac cgabd fd  \n",
       "4   abec gdcfea cbdga agbcde  "
      ]
     },
     "execution_count": 2,
     "metadata": {},
     "output_type": "execute_result"
    }
   ],
   "source": [
    "data = pd.read_csv('Files/Day8.txt', header=None, delimiter='|')\n",
    "data.head()"
   ]
  },
  {
   "cell_type": "code",
   "execution_count": 9,
   "metadata": {},
   "outputs": [],
   "source": [
    "input_values = data[0].str.strip().str.split(' ')\n",
    "output_values = data[1].str.strip().str.split(' ')"
   ]
  },
  {
   "cell_type": "code",
   "execution_count": 16,
   "metadata": {},
   "outputs": [
    {
     "data": {
      "text/plain": [
       "397"
      ]
     },
     "execution_count": 16,
     "metadata": {},
     "output_type": "execute_result"
    }
   ],
   "source": [
    "# Part 1\n",
    "# Count the number of:\n",
    "# 1's - 2 segments\n",
    "# 4's - 4 segments\n",
    "# 7's - 3 segments\n",
    "# 8's - 7 segments\n",
    "\n",
    "count = 0\n",
    "for _, value in output_values.iteritems():\n",
    "    count += sum([1 if len(v) in [2,3,4,7] else 0 for v in value])\n",
    "    \n",
    "count"
   ]
  },
  {
   "cell_type": "code",
   "execution_count": 237,
   "metadata": {},
   "outputs": [],
   "source": [
    "# Part 2\n",
    "def sort_string(string):\n",
    "    return \"\". join(sorted(string))"
   ]
  },
  {
   "cell_type": "code",
   "execution_count": 245,
   "metadata": {},
   "outputs": [],
   "source": [
    "# Part 2\n",
    "output = []\n",
    "\n",
    "for idx, value in output_values.iteritems():\n",
    "    key = {}\n",
    "    input_value = input_values.iloc[idx]\n",
    "    \n",
    "    key = {}\n",
    "\n",
    "    one = list(filter(lambda x: len(x) == 2, input_value))[0]\n",
    "    seven = list(filter(lambda x: len(x) == 3, input_value))[0]\n",
    "    four = list(filter(lambda x: len(x) == 4, input_value))[0]\n",
    "    eight = list(filter(lambda x: len(x) == 7, input_value))[0]\n",
    "\n",
    "    key[sort_string(one)] = 1\n",
    "    key[sort_string(seven)] = 7\n",
    "    key[sort_string(four)] = 4\n",
    "    key[sort_string(eight)] = 8\n",
    "\n",
    "    top = seven.translate({ord(x): '' for x in one})\n",
    "\n",
    "    # Solve for top right and six\n",
    "    length_six = list(filter(lambda x: len(x) == 6, input_value))\n",
    "    for l_s in length_six:\n",
    "        #overlap = [l if l in list(one) else None for l in l_s]\n",
    "        #char = [c for c in overlap if c is not None]\n",
    "        char = [l for l in l_s if l in list(one)]\n",
    "        if len(char) == 1:\n",
    "            top_right = one.translate({ord(x): '' for x in char})\n",
    "            six = l_s\n",
    "\n",
    "    key[sort_string(six)] = 6\n",
    "\n",
    "    # Solve for five\n",
    "    length_five = list(filter(lambda x: len(x) == 5, input_value))\n",
    "    five  = [l_f for l_f in length_five if top_right not in l_f][0]\n",
    "\n",
    "    key[sort_string(five)] = 5\n",
    "\n",
    "    # Solve for nine\n",
    "    nine_chars = ''.join(list(set(five + one)))\n",
    "    nine = [l_f for l_f in length_six if len(''.join(list(set(nine_chars + l_f)))) == len(nine_chars)][0]\n",
    "\n",
    "    key[sort_string(nine)] = 9\n",
    "\n",
    "    # Solve for zero\n",
    "    zero = [l_s for l_s in length_six if l_s not in [six, nine]][0]\n",
    "\n",
    "    key[sort_string(zero)] = 0\n",
    "\n",
    "    # Solve for three\n",
    "    # For this find the length_five that contains both characters in one\n",
    "    for l_f in length_five:\n",
    "        char = [l for l in l_f if l in list(one)]\n",
    "        if len(char) == 2:\n",
    "            three = l_f\n",
    "\n",
    "    key[sort_string(three)] = 3\n",
    "\n",
    "    # Find the last one similar to how we found zero\n",
    "    two = [l_f for l_f in length_five if l_f not in [three, five]][0]\n",
    "\n",
    "    key[sort_string(two)] = 2\n",
    "    \n",
    "    output_l = ''\n",
    "    for v in value:\n",
    "        output_l += str(key[sort_string(v)])\n",
    "\n",
    "    output.append(int(output_l))"
   ]
  },
  {
   "cell_type": "code",
   "execution_count": 247,
   "metadata": {},
   "outputs": [
    {
     "data": {
      "text/plain": [
       "1027422"
      ]
     },
     "execution_count": 247,
     "metadata": {},
     "output_type": "execute_result"
    }
   ],
   "source": [
    "sum(output)"
   ]
  },
  {
   "cell_type": "code",
   "execution_count": 242,
   "metadata": {},
   "outputs": [
    {
     "data": {
      "text/plain": [
       "{'bd': 1,\n",
       " 'bde': 7,\n",
       " 'abdf': 4,\n",
       " 'abcdefg': 8,\n",
       " 'acdefg': 6,\n",
       " 'adefg': 5,\n",
       " 'abdefg': 9,\n",
       " 'bcdefg': 0,\n",
       " 'abdeg': 3,\n",
       " 'abceg': 2}"
      ]
     },
     "execution_count": 242,
     "metadata": {},
     "output_type": "execute_result"
    }
   ],
   "source": [
    "key = {}\n",
    "\n",
    "one = list(filter(lambda x: len(x) == 2, input_value))[0]\n",
    "seven = list(filter(lambda x: len(x) == 3, input_value))[0]\n",
    "four = list(filter(lambda x: len(x) == 4, input_value))[0]\n",
    "eight = list(filter(lambda x: len(x) == 7, input_value))[0]\n",
    "\n",
    "key[sort_string(one)] = 1\n",
    "key[sort_string(seven)] = 7\n",
    "key[sort_string(four)] = 4\n",
    "key[sort_string(eight)] = 8\n",
    "\n",
    "top = seven.translate({ord(x): '' for x in one})\n",
    "\n",
    "# Solve for top right and six\n",
    "length_six = list(filter(lambda x: len(x) == 6, input_value))\n",
    "for l_s in length_six:\n",
    "    #overlap = [l if l in list(one) else None for l in l_s]\n",
    "    #char = [c for c in overlap if c is not None]\n",
    "    char = [l for l in l_s if l in list(one)]\n",
    "    if len(char) == 1:\n",
    "        top_right = one.translate({ord(x): '' for x in char})\n",
    "        six = l_s\n",
    "\n",
    "key[sort_string(six)] = 6\n",
    "\n",
    "# Solve for five\n",
    "length_five = list(filter(lambda x: len(x) == 5, input_value))\n",
    "five  = [l_f for l_f in length_five if top_right not in l_f][0]\n",
    "\n",
    "key[sort_string(five)] = 5\n",
    "\n",
    "# Solve for nine\n",
    "nine_chars = ''.join(list(set(five + one)))\n",
    "nine = [l_f for l_f in length_six if len(''.join(list(set(nine_chars + l_f)))) == len(nine_chars)][0]\n",
    "\n",
    "key[sort_string(nine)] = 9\n",
    "\n",
    "# Solve for zero\n",
    "zero = [l_s for l_s in length_six if l_s not in [six, nine]][0]\n",
    "\n",
    "key[sort_string(zero)] = 0\n",
    "\n",
    "# Solve for three\n",
    "# For this find the length_five that contains both characters in one\n",
    "for l_f in length_five:\n",
    "    char = [l for l in l_f if l in list(one)]\n",
    "    if len(char) == 2:\n",
    "        three = l_f\n",
    "\n",
    "key[sort_string(three)] = 3\n",
    "\n",
    "# Find the last one similar to how we found zero\n",
    "two = [l_f for l_f in length_five if l_f not in [three, five]][0]\n",
    "\n",
    "key[sort_string(two)] = 2\n",
    "\n",
    "key"
   ]
  },
  {
   "cell_type": "code",
   "execution_count": 240,
   "metadata": {},
   "outputs": [
    {
     "data": {
      "text/plain": [
       "'acdefg'"
      ]
     },
     "execution_count": 240,
     "metadata": {},
     "output_type": "execute_result"
    }
   ],
   "source": [
    "sort_string(six)"
   ]
  },
  {
   "cell_type": "code",
   "execution_count": 244,
   "metadata": {},
   "outputs": [
    {
     "data": {
      "text/plain": [
       "6778"
      ]
     },
     "execution_count": 244,
     "metadata": {},
     "output_type": "execute_result"
    }
   ],
   "source": [
    "output = ''\n",
    "for v in value:\n",
    "    output += str(key[sort_string(v)])\n",
    "    \n",
    "int(output)"
   ]
  }
 ],
 "metadata": {
  "kernelspec": {
   "display_name": "Python 3",
   "language": "python",
   "name": "python3"
  },
  "language_info": {
   "codemirror_mode": {
    "name": "ipython",
    "version": 3
   },
   "file_extension": ".py",
   "mimetype": "text/x-python",
   "name": "python",
   "nbconvert_exporter": "python",
   "pygments_lexer": "ipython3",
   "version": "3.7.4"
  }
 },
 "nbformat": 4,
 "nbformat_minor": 2
}
